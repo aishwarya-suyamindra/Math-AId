{
 "cells": [
  {
   "cell_type": "code",
   "execution_count": 1,
   "metadata": {},
   "outputs": [
    {
     "name": "stderr",
     "output_type": "stream",
     "text": [
      "/Users/aishwaryas/Desktop/MS/Coursework/Fall 2023/ML/Project/proj_env/lib/python3.10/site-packages/tqdm/auto.py:21: TqdmWarning: IProgress not found. Please update jupyter and ipywidgets. See https://ipywidgets.readthedocs.io/en/stable/user_install.html\n",
      "  from .autonotebook import tqdm as notebook_tqdm\n"
     ]
    }
   ],
   "source": [
    "import gradio as gr\n",
    "import torch\n",
    "from transformers import (\n",
    "AutoModelForCausalLM,\n",
    "AutoTokenizer,\n",
    "StoppingCriteria,\n",
    "StoppingCriteriaList,\n",
    "TextIteratorStreamer,\n",
    "T5Tokenizer,\n",
    "T5ForConditionalGeneration,\n",
    "DataCollatorWithPadding)\n",
    "\n",
    "from peft import (get_peft_config, \n",
    "get_peft_model, \n",
    "PromptTuningInit, \n",
    "PromptTuningConfig, \n",
    "TaskType, \n",
    "PeftType,\n",
    "PeftModel,\n",
    "PeftConfig)"
   ]
  },
  {
   "cell_type": "code",
   "execution_count": 6,
   "metadata": {},
   "outputs": [
    {
     "name": "stderr",
     "output_type": "stream",
     "text": [
      "Special tokens have been added in the vocabulary, make sure the associated word embeddings are fine-tuned or trained.\n"
     ]
    }
   ],
   "source": [
    "base_model = \"google/flan-t5-large\"\n",
    "tokenizer = T5Tokenizer.from_pretrained(base_model)\n",
    "\n",
    "# Load the pre trained model\n",
    "pre_trained_model_path = \"pre-trained-model\"\n",
    "config = PeftConfig.from_pretrained(pre_trained_model_path)\n",
    "model = T5ForConditionalGeneration.from_pretrained(config.base_model_name_or_path)\n",
    "model = PeftModel.from_pretrained(model, pre_trained_model_path)"
   ]
  },
  {
   "cell_type": "code",
   "execution_count": 3,
   "metadata": {},
   "outputs": [],
   "source": [
    "def predict(message, history, prompt):\n",
    "    message = prompt + message\n",
    "    history_transformer_format = history + [[message, \"\"]]\n",
    "    messages = \"\".join([\"\".join([\"\\n<human>:\"+item[0], \"\\n<bot>:\"+item[1]])\n",
    "                for item in history_transformer_format])\n",
    "    model_inputs = tokenizer([messages], return_tensors=\"pt\")\n",
    "    response = model.generate(input_ids = model_inputs.input_ids, max_new_tokens = 300)\n",
    "    output = tokenizer.decode(response[0], skip_special_tokens=True)\n",
    "    return output"
   ]
  },
  {
   "cell_type": "code",
   "execution_count": 7,
   "metadata": {},
   "outputs": [
    {
     "name": "stdout",
     "output_type": "stream",
     "text": [
      "Running on local URL:  http://127.0.0.1:7861\n",
      "\n",
      "To create a public link, set `share=True` in `launch()`.\n"
     ]
    },
    {
     "data": {
      "text/html": [
       "<div><iframe src=\"http://127.0.0.1:7861/\" width=\"100%\" height=\"500\" allow=\"autoplay; camera; microphone; clipboard-read; clipboard-write;\" frameborder=\"0\" allowfullscreen></iframe></div>"
      ],
      "text/plain": [
       "<IPython.core.display.HTML object>"
      ]
     },
     "metadata": {},
     "output_type": "display_data"
    },
    {
     "data": {
      "text/plain": []
     },
     "execution_count": 7,
     "metadata": {},
     "output_type": "execute_result"
    }
   ],
   "source": [
    "prompt = gr.Textbox(\"Let's first prepare relevant information and make a plan. Execute the plan, ensuring accurate numerical calculation and logical consistency. Present the answer step-by-step.\", label=\"System Prompt\")\n",
    "gr.ChatInterface(\n",
    "    predict,\n",
    "    chatbot=gr.Chatbot(height=500),\n",
    "    textbox=gr.Textbox(placeholder=\"Go on, ask me all your math doubts\", container=False, scale=7),\n",
    "    title=\"Math AId\",\n",
    "    description=\"Math\",\n",
    "    theme=\"soft\",\n",
    "    retry_btn=None,\n",
    "    undo_btn=\"Delete Previous\",\n",
    "    clear_btn=\"Clear\",\n",
    "    additional_inputs=[prompt]\n",
    ").launch(share=False)"
   ]
  },
  {
   "cell_type": "code",
   "execution_count": 5,
   "metadata": {},
   "outputs": [],
   "source": [
    "gr.close_all()"
   ]
  }
 ],
 "metadata": {
  "kernelspec": {
   "display_name": "Python 3",
   "language": "python",
   "name": "python3"
  },
  "language_info": {
   "codemirror_mode": {
    "name": "ipython",
    "version": 3
   },
   "file_extension": ".py",
   "mimetype": "text/x-python",
   "name": "python",
   "nbconvert_exporter": "python",
   "pygments_lexer": "ipython3",
   "version": "3.10.1"
  }
 },
 "nbformat": 4,
 "nbformat_minor": 2
}
